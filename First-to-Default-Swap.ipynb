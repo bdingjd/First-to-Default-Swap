{
 "cells": [
  {
   "cell_type": "code",
   "execution_count": 1,
   "metadata": {},
   "outputs": [],
   "source": [
    "'''\n",
    "This is an implementation of a basket credit default swap based on Gaussian copula. \n",
    "The underlying implementation was done in C++\n",
    "'''\n",
    "\n",
    "import numpy as np\n",
    "import First_to_Default_Swap"
   ]
  },
  {
   "cell_type": "code",
   "execution_count": 2,
   "metadata": {},
   "outputs": [],
   "source": [
    "'''\n",
    "basket CDS cash terms\n",
    "'''\n",
    "cashTerm = np.array([\n",
    "0.000000,\n",
    "0.501370,\n",
    "1.000000,\n",
    "1.506849,\n",
    "2.005479,\n",
    "2.504110,\n",
    "3.002740,\n",
    "3.504110,\n",
    "4.002740,\n",
    "4.504110,\n",
    "5.002740], \n",
    "dtype = np.float)"
   ]
  },
  {
   "cell_type": "code",
   "execution_count": 3,
   "metadata": {},
   "outputs": [],
   "source": [
    "'''\n",
    "Crdit Spread terms and rates\n",
    "'''\n",
    "creditSpread = np.array([\n",
    "[0.500000,    0.003500,    0.001800,    0.008800,    0.006100,    0.003200],\n",
    "[1.000000,    0.004000,    0.002200,    0.008900,    0.006400,    0.003200],\n",
    "[1.500000,    0.003800,    0.002200,    0.009000,    0.006725,    0.003500],\n",
    "[2.000000,    0.004100,    0.002200,    0.009300,    0.007050,    0.003700],\n",
    "[3.000000,    0.004100,    0.002600,    0.009700,    0.007600,    0.004000],\n",
    "[4.000000,    0.004300,    0.002900,    0.010000,    0.007900,    0.004200],\n",
    "[5.000000,    0.004400,    0.002900,    0.010400,    0.008400,    0.004500],\n",
    "[7.000000,    0.004600,    0.003400,    0.011100,    0.009220,    0.005000],\n",
    "[10.000000,   0.005100,    0.004400,    0.011900,    0.009900,    0.005500],\n",
    "[12.000000,   0.005100,    0.005400,    0.012500,    0.010490,    0.006000],\n",
    "[15.000000,   0.005100,    0.005400,    0.012700,    0.011175,    0.006500],\n",
    "[20.000000,   0.005100,    0.005400,    0.012800,    0.011250,    0.006500],\n",
    "[30.000000,   0.005100,    0.005400,    0.012900,    0.011400,    0.006500],\n",
    "[49.000000,   0.005100,    0.005400,    0.012900,    0.011400,    0.006500]],\n",
    "dtype = np.float)"
   ]
  },
  {
   "cell_type": "code",
   "execution_count": 4,
   "metadata": {},
   "outputs": [],
   "source": [
    "''' \n",
    "Correlation among credit entities\n",
    "'''\n",
    "\n",
    "correlation = np.array([\n",
    "[1.000000,    0.225000,    0.169000,    0.169000,    0.243000],\n",
    "[0.225000,    1.000000,    0.249000,    0.249000,    0.335000],\n",
    "[0.169000,    0.249000,    1.000000,    0.263000,    0.347000],\n",
    "[0.169000,    0.249000,    0.263000,    1.000000,    0.347000],\n",
    "[0.243000,    0.335000,    0.347000,    0.347000,    1.000000]],\n",
    "dtype = np.float)"
   ]
  },
  {
   "cell_type": "code",
   "execution_count": 5,
   "metadata": {},
   "outputs": [],
   "source": [
    "'''\n",
    "Yield Curve \n",
    "'''\n",
    "zeroCurve = np.array([\n",
    "[0.002740,    0.017235],\n",
    "[0.087671,    0.017976],\n",
    "[0.254795,    0.018253],\n",
    "[0.449315,    0.019318],\n",
    "[0.695890,    0.020780],\n",
    "[0.942466,    0.022859],\n",
    "[1.197260,    0.025224],\n",
    "[1.446575,    0.027625],\n",
    "[1.693151,    0.029872],\n",
    "[2.013699,    0.033150],\n",
    "[3.010959,    0.039163],\n",
    "[4.008219,    0.043304],\n",
    "[5.008219,    0.046427],\n",
    "[6.010959,    0.048872],\n",
    "[7.010959,    0.050945],\n",
    "[8.016438,    0.052642],\n",
    "[9.013699,    0.053988],\n",
    "[10.013699,   0.055132],\n",
    "[12.013699,   0.057309],\n",
    "[15.016438,   0.059989],\n",
    "[20.021918,   0.062079],\n",
    "[30.032877,   0.062893],\n",
    "[50.041096,   0.062893]], \n",
    "dtype = np.float)"
   ]
  },
  {
   "cell_type": "code",
   "execution_count": 6,
   "metadata": {},
   "outputs": [],
   "source": [
    "'''\n",
    "Recovery rates for credit names at default\n",
    "'''\n",
    "recovery = np.array([\n",
    "0.100000,\n",
    "0.250000,\n",
    "0.350000,\n",
    "0.350000,\n",
    "0.350000], \n",
    "dtype = np.float)"
   ]
  },
  {
   "cell_type": "code",
   "execution_count": 7,
   "metadata": {},
   "outputs": [
    {
     "name": "stdout",
     "output_type": "stream",
     "text": [
      "Present value of the basket CDS for protection buyer =  71906.2551361533\n",
      "\n",
      "\n",
      "Premium PV =  41085.448057277434\n",
      "\n",
      "\n",
      "protection PV =  112991.70319343073\n"
     ]
    }
   ],
   "source": [
    "'''\n",
    "Additional deal and model inputs\n",
    "'''\n",
    "frequency = 6 \n",
    "maturity = 5.002740 \n",
    "no_simulations = 100000\n",
    "premium =  0.01 \n",
    "notional = 1000000.0\n",
    "additional_results = np.arange(2).astype(float)\n",
    "price = First_to_Default_Swap.First_to_Default(cashTerm, creditSpread, correlation, zeroCurve, recovery, \n",
    "        notional, premium, maturity, frequency, no_simulations, additional_results)\n",
    "\n",
    "print(\"Present value of the basket CDS for protection buyer = \", price)\n",
    "print(\"\\n\")\n",
    "print(\"Premium PV = \", additional_results[0]) \n",
    "print(\"\\n\")\n",
    "print(\"protection PV = \", additional_results[1])\n"
   ]
  }
 ],
 "metadata": {
  "kernelspec": {
   "display_name": "Python 3",
   "language": "python",
   "name": "python3"
  },
  "language_info": {
   "codemirror_mode": {
    "name": "ipython",
    "version": 3
   },
   "file_extension": ".py",
   "mimetype": "text/x-python",
   "name": "python",
   "nbconvert_exporter": "python",
   "pygments_lexer": "ipython3",
   "version": "3.6.6"
  }
 },
 "nbformat": 4,
 "nbformat_minor": 2
}
